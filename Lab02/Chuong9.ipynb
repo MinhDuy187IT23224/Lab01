{
  "nbformat": 4,
  "nbformat_minor": 0,
  "metadata": {
    "colab": {
      "name": "Chuong9.ipynb",
      "provenance": [],
      "authorship_tag": "ABX9TyO5gZOMtCORRg8uxIzEgHdY",
      "include_colab_link": true
    },
    "kernelspec": {
      "name": "python3",
      "display_name": "Python 3"
    },
    "language_info": {
      "name": "python"
    }
  },
  "cells": [
    {
      "cell_type": "markdown",
      "metadata": {
        "id": "view-in-github",
        "colab_type": "text"
      },
      "source": [
        "<a href=\"https://colab.research.google.com/github/MinhDuy187IT23224/PythonNangCao/blob/main/Lab02/Chuong9.ipynb\" target=\"_parent\"><img src=\"https://colab.research.google.com/assets/colab-badge.svg\" alt=\"Open In Colab\"/></a>"
      ]
    },
    {
      "cell_type": "code",
      "metadata": {
        "id": "NCXHpGJD8cfd",
        "colab": {
          "base_uri": "https://localhost:8080/"
        },
        "outputId": "a342edb0-dd8a-47f8-96d8-d0dad9545883"
      },
      "source": [
        "celegans_phenotypes = ['Emb','Him', 'Unc', 'Lon', 'Dpy', 'Sma']\n",
        "for i in celegans_phenotypes:\n",
        "  print(i)"
      ],
      "execution_count": 2,
      "outputs": [
        {
          "output_type": "stream",
          "name": "stdout",
          "text": [
            "Emb\n",
            "Him\n",
            "Unc\n",
            "Lon\n",
            "Dpy\n",
            "Sma\n"
          ]
        }
      ]
    },
    {
      "cell_type": "code",
      "metadata": {
        "colab": {
          "base_uri": "https://localhost:8080/"
        },
        "id": "Rjtk-ZpfHAJw",
        "outputId": "d7e28d9a-3f19-42e5-fe4a-7b70dac91990"
      },
      "source": [
        "half_live = [87.74, 24110.0, 6537.0, 14.4, 376000.0]\n",
        "for half_live in half_live:\n",
        "  print(half_live, end=\"  \")"
      ],
      "execution_count": 3,
      "outputs": [
        {
          "output_type": "stream",
          "name": "stdout",
          "text": [
            "87.74  24110.0  6537.0  14.4  376000.0  "
          ]
        }
      ]
    },
    {
      "cell_type": "code",
      "metadata": {
        "colab": {
          "base_uri": "https://localhost:8080/"
        },
        "id": "A0gQHxFzHCNV",
        "outputId": "0480c9a5-6463-4d7b-cad4-4ec172af7aa4"
      },
      "source": [
        "whales = [5, 4, 7, 3, 2, 3, 2, 6, 4, 2, 1, 7, 1, 3]\n",
        "more_whales = []\n",
        "for i in whales:\n",
        "  more_whales.append(i+1)\n",
        "print(more_whales)"
      ],
      "execution_count": 4,
      "outputs": [
        {
          "output_type": "stream",
          "name": "stdout",
          "text": [
            "[6, 5, 8, 4, 3, 4, 3, 7, 5, 3, 2, 8, 2, 4]\n"
          ]
        }
      ]
    },
    {
      "cell_type": "code",
      "metadata": {
        "id": "AktwVsKqHESH"
      },
      "source": [
        "alkaline_earth_metals = [[4,12,20,38,56,88],[9.012,24.305,40.078,87.62,137.327,226]]"
      ],
      "execution_count": 5,
      "outputs": []
    },
    {
      "cell_type": "code",
      "metadata": {
        "colab": {
          "base_uri": "https://localhost:8080/"
        },
        "id": "t0oGWqnYHGI0",
        "outputId": "d6ecadb4-d3fc-47f2-ecc4-4e26d176a4ef"
      },
      "source": [
        "for alkaline_earth_metals in alkaline_earth_metals:\n",
        "  print(alkaline_earth_metals)"
      ],
      "execution_count": 6,
      "outputs": [
        {
          "output_type": "stream",
          "name": "stdout",
          "text": [
            "[4, 12, 20, 38, 56, 88]\n",
            "[9.012, 24.305, 40.078, 87.62, 137.327, 226]\n"
          ]
        }
      ]
    },
    {
      "cell_type": "code",
      "metadata": {
        "colab": {
          "base_uri": "https://localhost:8080/"
        },
        "id": "2M8bZnSCHHpi",
        "outputId": "2bdda7f2-1cb3-4679-ef8e-a943de7835a7"
      },
      "source": [
        "\n",
        "alkaline_earth_metals = [[4,12,20,38,56,88],[9.012,24.305,40.078,87.62,137.327,226]]\n",
        "[x for number_and_weight in alkaline_earth_metals for x in number_and_weight]"
      ],
      "execution_count": 7,
      "outputs": [
        {
          "output_type": "execute_result",
          "data": {
            "text/plain": [
              "[4, 12, 20, 38, 56, 88, 9.012, 24.305, 40.078, 87.62, 137.327, 226]"
            ]
          },
          "metadata": {},
          "execution_count": 7
        }
      ]
    },
    {
      "cell_type": "code",
      "metadata": {
        "colab": {
          "base_uri": "https://localhost:8080/"
        },
        "id": "WzELGQ5vHI-O",
        "outputId": "2a4a7b98-c281-4041-8f4a-c1fc81158684"
      },
      "source": [
        "def mystery_function(values):\n",
        "  result = []\n",
        "  for sublist in values:\n",
        "    result.append([sublist[0]])\n",
        "    for i in sublist[1:]:\n",
        "      result[-1].insert(0, i)\n",
        "  return result\n",
        "mystery_function([[1,2,3],[4,5,6]])"
      ],
      "execution_count": 8,
      "outputs": [
        {
          "output_type": "execute_result",
          "data": {
            "text/plain": [
              "[[3, 2, 1], [6, 5, 4]]"
            ]
          },
          "metadata": {},
          "execution_count": 8
        }
      ]
    },
    {
      "cell_type": "code",
      "metadata": {
        "colab": {
          "base_uri": "https://localhost:8080/"
        },
        "id": "gL3PMkaSHLwd",
        "outputId": "f16f62bb-115c-4e90-bc24-f4bf11ab6ade"
      },
      "source": [
        "\n",
        "text = \" \"\n",
        "while text.lower() != \"quit\":\n",
        "  text = input(\"Please enter (or 'quit' to exit): \")\n",
        "  if text == \"quit\":\n",
        "    print(\"Exiting program\")\n",
        "  elif text == \"CO2\":\n",
        "    print(\"Cacbonic\")\n",
        "  elif text == \"C6H12O6\":\n",
        "    print(\"Glucozo\")\n",
        "  else:\n",
        "    print(\"Unknown\")"
      ],
      "execution_count": 9,
      "outputs": [
        {
          "output_type": "stream",
          "name": "stdout",
          "text": [
            "Please enter (or 'quit' to exit): qiut\n",
            "Unknown\n",
            "Please enter (or 'quit' to exit): exut\n",
            "Unknown\n",
            "Please enter (or 'quit' to exit): exit\n",
            "Unknown\n",
            "Please enter (or 'quit' to exit): quit\n",
            "Exiting program\n"
          ]
        }
      ]
    },
    {
      "cell_type": "code",
      "metadata": {
        "colab": {
          "base_uri": "https://localhost:8080/"
        },
        "id": "EU1LzzRDHNdP",
        "outputId": "7b30910b-e64e-441b-836d-ca8c3e3b8544"
      },
      "source": [
        "sum = 0\n",
        "country_populations =[1295,23,7,3,47,21]\n",
        "for i in country_populations:\n",
        "  sum = sum + i\n",
        "print(sum)"
      ],
      "execution_count": 10,
      "outputs": [
        {
          "output_type": "stream",
          "name": "stdout",
          "text": [
            "1396\n"
          ]
        }
      ]
    },
    {
      "cell_type": "code",
      "metadata": {
        "colab": {
          "base_uri": "https://localhost:8080/"
        },
        "id": "kTtiJmyPHQOI",
        "outputId": "010a1270-0473-45cb-862f-2e84749d283b"
      },
      "source": [
        "import numpy as np\n",
        "rat_1 = np.random.randint(10,size=10)\n",
        "rat_2 = np.random.randint(10,size=10)\n",
        "print(rat_1)\n",
        "print(rat_2)\n",
        "if (rat_1[0] > rat_2[0]):\n",
        "  print(\"Rat 1 weighed more than Rat 2 on day 1\")\n",
        "else:\n",
        "  print(\"Rat 2 weighed more than Rat 1 on day 1\")"
      ],
      "execution_count": 11,
      "outputs": [
        {
          "output_type": "stream",
          "name": "stdout",
          "text": [
            "[1 3 2 3 6 7 9 5 7 5]\n",
            "[9 3 1 0 6 0 1 0 7 1]\n",
            "Rat 2 weighed more than Rat 1 on day 1\n"
          ]
        }
      ]
    },
    {
      "cell_type": "code",
      "metadata": {
        "colab": {
          "base_uri": "https://localhost:8080/"
        },
        "id": "5D415j4iHR5W",
        "outputId": "12f170a7-b952-4aaa-d0e1-4e9321cf1672"
      },
      "source": [
        "print(rat_1)\n",
        "print(rat_2)\n",
        "if rat_1[0] > rat_2[0] and rat_1[-1] > rat_2[-1]:\n",
        "  print(\"Rat 1 remained heavier than Rat 2.\")\n",
        "else:\n",
        "  print(\"Rat 2 became heavier than Rat 1.\")"
      ],
      "execution_count": 12,
      "outputs": [
        {
          "output_type": "stream",
          "name": "stdout",
          "text": [
            "[1 3 2 3 6 7 9 5 7 5]\n",
            "[9 3 1 0 6 0 1 0 7 1]\n",
            "Rat 2 became heavier than Rat 1.\n"
          ]
        }
      ]
    },
    {
      "cell_type": "code",
      "metadata": {
        "colab": {
          "base_uri": "https://localhost:8080/"
        },
        "id": "mJdRloQGHTUu",
        "outputId": "aeacb603-46be-4dc7-e829-48134f5e0056"
      },
      "source": [
        "if rat_1[0] > rat_2[0]:\n",
        "  if rat_1[-1] > rat_2[-1]:\n",
        "    print(\"Rat 1 remained heavier than Rat 2.\")\n",
        "  else:\n",
        "    print(\"Rat 2 became heavier than Rat 1.\")\n",
        "else:\n",
        "  print(\"Rat 2 became heavier than Rat 1.\")"
      ],
      "execution_count": 13,
      "outputs": [
        {
          "output_type": "stream",
          "name": "stdout",
          "text": [
            "Rat 2 became heavier than Rat 1.\n"
          ]
        }
      ]
    },
    {
      "cell_type": "code",
      "metadata": {
        "colab": {
          "base_uri": "https://localhost:8080/"
        },
        "id": "uwh91awQHU9Q",
        "outputId": "47f06b2a-57fe-43a2-cf97-2ada88c122f4"
      },
      "source": [
        "for i in range(33,50):\n",
        "  print(i)"
      ],
      "execution_count": 14,
      "outputs": [
        {
          "output_type": "stream",
          "name": "stdout",
          "text": [
            "33\n",
            "34\n",
            "35\n",
            "36\n",
            "37\n",
            "38\n",
            "39\n",
            "40\n",
            "41\n",
            "42\n",
            "43\n",
            "44\n",
            "45\n",
            "46\n",
            "47\n",
            "48\n",
            "49\n"
          ]
        }
      ]
    },
    {
      "cell_type": "code",
      "metadata": {
        "colab": {
          "base_uri": "https://localhost:8080/"
        },
        "id": "zC4ajL24HWiw",
        "outputId": "edea1ee0-8002-4713-91c8-c0796d927e6c"
      },
      "source": [
        "for i in range(1,11):\n",
        "  print(i,end=\" \")"
      ],
      "execution_count": 15,
      "outputs": [
        {
          "output_type": "stream",
          "name": "stdout",
          "text": [
            "1 2 3 4 5 6 7 8 9 10 "
          ]
        }
      ]
    },
    {
      "cell_type": "code",
      "metadata": {
        "colab": {
          "base_uri": "https://localhost:8080/"
        },
        "id": "SYsME6KSHX_f",
        "outputId": "1a61dbb8-5b8d-4070-a56f-03435c1a78cf"
      },
      "source": [
        "sum = 0\n",
        "count = 0\n",
        "for i in range(2,23):\n",
        "  sum = sum + i\n",
        "  count = count + 1\n",
        "  average = sum / count\n",
        "print(average)"
      ],
      "execution_count": 16,
      "outputs": [
        {
          "output_type": "stream",
          "name": "stdout",
          "text": [
            "12.0\n"
          ]
        }
      ]
    },
    {
      "cell_type": "code",
      "metadata": {
        "colab": {
          "base_uri": "https://localhost:8080/"
        },
        "id": "Lkpt-FKlHZSM",
        "outputId": "ad311e7a-cb68-4cf2-e2a2-8eac189cec77"
      },
      "source": [
        "def remove_neg(num_list):\n",
        "  for i in num_list:\n",
        "    if num_list[i] < 0:\n",
        "      del num_list[i]\n",
        "  print(num_list)\n",
        "remove_neg([1, 2, 3, -3, 6, -1, -3, 1])"
      ],
      "execution_count": 17,
      "outputs": [
        {
          "output_type": "stream",
          "name": "stdout",
          "text": [
            "[1, 2, 3, 6, -3, 1]\n"
          ]
        }
      ]
    },
    {
      "cell_type": "code",
      "metadata": {
        "colab": {
          "base_uri": "https://localhost:8080/"
        },
        "id": "ruVIfdVlHaqo",
        "outputId": "e3d302c4-8065-4e92-f752-602bbf14732f"
      },
      "source": [
        "for i in range(1,8):\n",
        "  s = \" \"\n",
        "  for j in range(1,i+1):\n",
        "    s = s + \" T\"\n",
        "  print(s)"
      ],
      "execution_count": 18,
      "outputs": [
        {
          "output_type": "stream",
          "name": "stdout",
          "text": [
            "  T\n",
            "  T T\n",
            "  T T T\n",
            "  T T T T\n",
            "  T T T T T\n",
            "  T T T T T T\n",
            "  T T T T T T T\n"
          ]
        }
      ]
    },
    {
      "cell_type": "code",
      "metadata": {
        "colab": {
          "base_uri": "https://localhost:8080/"
        },
        "id": "-8HD_ujeHcm7",
        "outputId": "37d3bab3-24d6-4971-81b5-1e75d7ab2cf8"
      },
      "source": [
        "n = 8\n",
        "k = 2*n - 2\n",
        "for i in range(1,n):\n",
        "  for j in range(1,k):\n",
        "    print(end = \" \")\n",
        "  k = k -2\n",
        "  for j in range(1,i+1):\n",
        "    print(\"T\", end = \" \")\n",
        "  print(\"\\r\")"
      ],
      "execution_count": 19,
      "outputs": [
        {
          "output_type": "stream",
          "name": "stdout",
          "text": [
            "             T \r\n",
            "           T T \r\n",
            "         T T T \r\n",
            "       T T T T \r\n",
            "     T T T T T \r\n",
            "   T T T T T T \r\n",
            " T T T T T T T \r\n"
          ]
        }
      ]
    },
    {
      "cell_type": "code",
      "metadata": {
        "colab": {
          "base_uri": "https://localhost:8080/"
        },
        "id": "ZbbgutgGHeDp",
        "outputId": "48906c65-d5fb-439a-c5c9-1d7c95d8fa54"
      },
      "source": [
        "i = 1\n",
        "while i < 8:\n",
        "  print(\"T\"*i )\n",
        "  i += 1"
      ],
      "execution_count": 20,
      "outputs": [
        {
          "output_type": "stream",
          "name": "stdout",
          "text": [
            "T\n",
            "TT\n",
            "TTT\n",
            "TTTT\n",
            "TTTTT\n",
            "TTTTTT\n",
            "TTTTTTT\n"
          ]
        }
      ]
    },
    {
      "cell_type": "code",
      "metadata": {
        "colab": {
          "base_uri": "https://localhost:8080/"
        },
        "id": "lNaSCa4uHes1",
        "outputId": "7c11cef9-2ed3-4c5d-f319-abffa12a198b"
      },
      "source": [
        "i = 1\n",
        "while i< 8:\n",
        "  print(\" \"*(8-i),\"T\"*i)\n",
        "  i += 1"
      ],
      "execution_count": 21,
      "outputs": [
        {
          "output_type": "stream",
          "name": "stdout",
          "text": [
            "        T\n",
            "       TT\n",
            "      TTT\n",
            "     TTTT\n",
            "    TTTTT\n",
            "   TTTTTT\n",
            "  TTTTTTT\n"
          ]
        }
      ]
    },
    {
      "cell_type": "code",
      "metadata": {
        "colab": {
          "base_uri": "https://localhost:8080/"
        },
        "id": "ELBuP3UuHhwq",
        "outputId": "b91517ac-0edc-4aa0-8c6f-c221a3a5cc46"
      },
      "source": [
        "\n",
        "rat_1_weight = 10.0\n",
        "rat_1_rate = 0.04\n",
        "last_weight = 0.25*rat_1_weight + rat_1_weight\n",
        "weeks = 0\n",
        "result = rat_1_weight\n",
        "while result < last_weight:\n",
        "  result += result * rat_1_rate\n",
        "  weeks += 1\n",
        "print(weeks)"
      ],
      "execution_count": 22,
      "outputs": [
        {
          "output_type": "stream",
          "name": "stdout",
          "text": [
            "6\n"
          ]
        }
      ]
    },
    {
      "cell_type": "code",
      "metadata": {
        "colab": {
          "base_uri": "https://localhost:8080/"
        },
        "id": "OXtZSdzMHk4n",
        "outputId": "4efbf0e0-0db1-4041-b524-20ffa4b4495c"
      },
      "source": [
        "rat_1_weight = 5\n",
        "rat_2_weight = 5\n",
        "rat_1_rate = 0.04\n",
        "rat_2_weight = 0.04\n",
        "last_weight_1 = 0.04*rat_1_weight + rat_1_weight\n",
        "last_weight_2 = 0.04*rat_2_weight + rat_2_weight\n",
        "weeks = 0\n",
        "result = rat_2_weight\n",
        "while result < last_weight_2:\n",
        "  result += result*0.1\n",
        "  weeks += 1\n",
        "print(weeks)"
      ],
      "execution_count": 23,
      "outputs": [
        {
          "output_type": "stream",
          "name": "stdout",
          "text": [
            "1\n"
          ]
        }
      ]
    }
  ]
}