{
  "nbformat": 4,
  "nbformat_minor": 0,
  "metadata": {
    "colab": {
      "name": "Untitled3.ipynb",
      "provenance": [],
      "include_colab_link": true
    },
    "kernelspec": {
      "name": "python3",
      "display_name": "Python 3"
    },
    "language_info": {
      "name": "python"
    }
  },
  "cells": [
    {
      "cell_type": "markdown",
      "metadata": {
        "id": "view-in-github",
        "colab_type": "text"
      },
      "source": [
        "<a href=\"https://colab.research.google.com/github/MinhDuy187IT23224/PythonNangCao/blob/main/Lab05/Lab05.ipynb\" target=\"_parent\"><img src=\"https://colab.research.google.com/assets/colab-badge.svg\" alt=\"Open In Colab\"/></a>"
      ]
    },
    {
      "cell_type": "markdown",
      "metadata": {
        "id": "BCdqhlYHj0FQ"
      },
      "source": [
        "Câu 1"
      ]
    },
    {
      "cell_type": "code",
      "metadata": {
        "id": "HtWWbc02jxHl"
      },
      "source": [
        "class Country:\n",
        "  def __init__(self, name: str, population: int, area:float):\n",
        "    self.name = name\n",
        "    self.population = population\n",
        "    self.area = area\n",
        "  def is_larger(self, other):\n",
        "    if (self.area > other.area):\n",
        "      return True\n",
        "    else:\n",
        "      return False\n",
        "  def population_destiny(self):\n",
        "    return self.population/self.area\n",
        "  def __str__ (self):\n",
        "    return ('{} has a population of {} and is {} sqare km'.format(self.name, self.population, self.area))\n",
        "  def __repr__(self):\n",
        "    return (\"Country('{0}', {1}, {2})\".format(self.name, self.population, self.area))\n",
        "usa = Country('United States of America', 313914040, 9826675)\n",
        "canada = Country(\"Cananda\", 34482779, 9984670)\n",
        "mexico = Country('Mexico', 112336538, 1943950)"
      ],
      "execution_count": 1,
      "outputs": []
    },
    {
      "cell_type": "code",
      "metadata": {
        "id": "fFKLCG3XcwNe",
        "colab": {
          "base_uri": "https://localhost:8080/"
        },
        "outputId": "7ea6a7dd-1e93-4f2c-b44b-7cf52d00a21d"
      },
      "source": [
        "#Câu a\n",
        "print(canada.name)\n",
        "print(canada.population)\n",
        "print(canada.area)"
      ],
      "execution_count": 2,
      "outputs": [
        {
          "output_type": "stream",
          "name": "stdout",
          "text": [
            "Cananda\n",
            "34482779\n",
            "9984670\n"
          ]
        }
      ]
    },
    {
      "cell_type": "code",
      "metadata": {
        "id": "7p0UpC1zVy6S",
        "colab": {
          "base_uri": "https://localhost:8080/"
        },
        "outputId": "ef2f890e-ad5d-4b67-8dc1-25e049160fe9"
      },
      "source": [
        "#Câu b\n",
        "print(canada.is_larger(usa))\n",
        "print(usa.is_larger(canada))"
      ],
      "execution_count": 3,
      "outputs": [
        {
          "output_type": "stream",
          "name": "stdout",
          "text": [
            "True\n",
            "False\n"
          ]
        }
      ]
    },
    {
      "cell_type": "code",
      "metadata": {
        "id": "RiNCoAzRbz1w",
        "colab": {
          "base_uri": "https://localhost:8080/"
        },
        "outputId": "a535f03a-ebbd-4fb6-aeb5-76ab06e8b37e"
      },
      "source": [
        "#Câu c\n",
        "print(canada.population_destiny())"
      ],
      "execution_count": 4,
      "outputs": [
        {
          "output_type": "stream",
          "name": "stdout",
          "text": [
            "3.4535722262227995\n"
          ]
        }
      ]
    },
    {
      "cell_type": "code",
      "metadata": {
        "id": "nykFr0J1czdZ",
        "colab": {
          "base_uri": "https://localhost:8080/"
        },
        "outputId": "dc8150d3-3b28-4033-ac2d-8a9fc8b933fa"
      },
      "source": [
        "#Câu d\n",
        "usa = Country('United States of America', 313914040, 9826675)\n",
        "print(usa)"
      ],
      "execution_count": 5,
      "outputs": [
        {
          "output_type": "stream",
          "name": "stdout",
          "text": [
            "United States of America has a population of 313914040 and is 9826675 sqare km\n"
          ]
        }
      ]
    },
    {
      "cell_type": "code",
      "metadata": {
        "id": "yAX9rEuadTnK",
        "colab": {
          "base_uri": "https://localhost:8080/"
        },
        "outputId": "b1bc2960-bc14-42f6-86ee-33941db6c5b1"
      },
      "source": [
        "#Câu e\n",
        "canada = Country('Canada', 34482779, 9984670)\n",
        "print(canada)\n",
        "print([canada])"
      ],
      "execution_count": 6,
      "outputs": [
        {
          "output_type": "stream",
          "name": "stdout",
          "text": [
            "Canada has a population of 34482779 and is 9984670 sqare km\n",
            "[Country('Canada', 34482779, 9984670)]\n"
          ]
        }
      ]
    },
    {
      "cell_type": "markdown",
      "metadata": {
        "id": "ejqFfvzo3qY7"
      },
      "source": [
        "Câu 2\n"
      ]
    },
    {
      "cell_type": "code",
      "metadata": {
        "id": "qtsIGbIs3rM_",
        "colab": {
          "base_uri": "https://localhost:8080/"
        },
        "outputId": "c18751b3-e4b6-41af-9915-03190f65c972"
      },
      "source": [
        "class Continent(Country):\n",
        "    def __init__(self,name, countries):\n",
        "      self.name = name\n",
        "      self.countries = countries\n",
        "    def total_population(self):\n",
        "      total = 0\n",
        "      for country in north_america.countries:\n",
        "        total += country.population\n",
        "      return total\n",
        "    def america(self):\n",
        "      num = 0\n",
        "      for country in north_america.countries:\n",
        "        num+=1\n",
        "        print(country)\n",
        "      return ''\n",
        "mexico = Country('Mexico', 112336538, 1943950)\n",
        "countries = [canada, usa, mexico]\n",
        "north_america = Continent('North America', countries)\n",
        "##Câu a\n",
        "print(mexico)\n",
        "print(north_america.name)\n",
        "print('--------------------------------')\n",
        "##Câu b\n",
        "print('The total population of the three countries is :')\n",
        "print(north_america.total_population())\n",
        "print('--------------------------------')\n",
        "##Câu c\n",
        "print(north_america.america())"
      ],
      "execution_count": 7,
      "outputs": [
        {
          "output_type": "stream",
          "name": "stdout",
          "text": [
            "Mexico has a population of 112336538 and is 1943950 sqare km\n",
            "North America\n",
            "--------------------------------\n",
            "The total population of the three countries is :\n",
            "460733357\n",
            "--------------------------------\n",
            "Canada has a population of 34482779 and is 9984670 sqare km\n",
            "United States of America has a population of 313914040 and is 9826675 sqare km\n",
            "Mexico has a population of 112336538 and is 1943950 sqare km\n",
            "\n"
          ]
        }
      ]
    },
    {
      "cell_type": "markdown",
      "metadata": {
        "id": "33U7H1zFK5-9"
      },
      "source": [
        "Câu 3"
      ]
    },
    {
      "cell_type": "code",
      "metadata": {
        "id": "M6ZXGWC4E8QR"
      },
      "source": [
        "class Student:\n",
        "  def __init__(self, name:str, ID: int, this_course: str, last_course: str):\n",
        "    self.name = name\n",
        "    self.ID = ID\n",
        "    self.this_course = this_course\n",
        "    self.last_course = last_course\n",
        "  def __str__(self):\n",
        "    return('-Name : {} \\n-ID : {} \\n-this_course: {} \\n-last_course: {}'.format(self.name, self.ID, self.this_course, self.last_course))"
      ],
      "execution_count": 8,
      "outputs": []
    },
    {
      "cell_type": "code",
      "metadata": {
        "id": "jo7mzyRDF5QD"
      },
      "source": [
        "class Member: \n",
        "  def __init__(self, course: str, ListMember: str):\n",
        "    self.course = course\n",
        "    self.ListMember = ListMember\n",
        "  def __repr__(self):\n",
        "    return('-Course : {} \\n-ListMember : {}'.format(self.course, self.ListMember)) "
      ],
      "execution_count": 9,
      "outputs": []
    },
    {
      "cell_type": "code",
      "metadata": {
        "id": "lXcABPcNGt0D"
      },
      "source": [
        "class Faculty:\n",
        "  def __init__(self, industry: str, ID_industry: str, mail: str ):\n",
        "    self.industry = industry\n",
        "    self.ID_industry = ID_industry\n",
        "    self.mail = mail\n",
        "  def __repr__(self):\n",
        "    return('-Industry: {} \\n-ID_industry: {} \\n-mail: {}'.format(self.industry, self.ID_industry, self.mail))"
      ],
      "execution_count": 10,
      "outputs": []
    },
    {
      "cell_type": "code",
      "metadata": {
        "id": "zyKedHBmImm1",
        "colab": {
          "base_uri": "https://localhost:8080/"
        },
        "outputId": "e632c3d5-5701-463b-d273-52968aef9ffc"
      },
      "source": [
        "MyClass = Student('Minh Duy','187IT23224','Requirements Engineering','Object-Oriented System Analysis and Design')\n",
        "print(MyClass)"
      ],
      "execution_count": 11,
      "outputs": [
        {
          "output_type": "stream",
          "name": "stdout",
          "text": [
            "-Name : Minh Duy \n",
            "-ID : 187IT23224 \n",
            "-this_course: Requirements Engineering \n",
            "-last_course: Object-Oriented System Analysis and Design\n"
          ]
        }
      ]
    },
    {
      "cell_type": "code",
      "metadata": {
        "id": "psihBlvsQHU4",
        "colab": {
          "base_uri": "https://localhost:8080/"
        },
        "outputId": "f8421f40-fe81-4571-a3ff-03eec38dbad2"
      },
      "source": [
        "ClassMember = Member('Advanced Python Programming',['Duy','Minh','Tin'])\n",
        "print(ClassMember.course)\n",
        "print(ClassMember.ListMember)"
      ],
      "execution_count": 12,
      "outputs": [
        {
          "output_type": "stream",
          "name": "stdout",
          "text": [
            "Advanced Python Programming\n",
            "['Duy', 'Minh', 'Tin']\n"
          ]
        }
      ]
    },
    {
      "cell_type": "code",
      "metadata": {
        "id": "DggW-n3IRfqA",
        "colab": {
          "base_uri": "https://localhost:8080/"
        },
        "outputId": "d9cc35bc-a112-4fc5-b9cb-aa4d515128d2"
      },
      "source": [
        "MyFac = Faculty('Software Engineering','PM','k.cntt@vanlanguni.edu.vn')\n",
        "print(MyFac)"
      ],
      "execution_count": 13,
      "outputs": [
        {
          "output_type": "stream",
          "name": "stdout",
          "text": [
            "-Industry: Software Engineering \n",
            "-ID_industry: PM \n",
            "-mail: k.cntt@vanlanguni.edu.vn\n"
          ]
        }
      ]
    },
    {
      "cell_type": "markdown",
      "metadata": {
        "id": "fGq4Vydt5Jsn"
      },
      "source": [
        "Câu 4"
      ]
    },
    {
      "cell_type": "code",
      "metadata": {
        "id": "ipYfJPXg8Stv",
        "colab": {
          "base_uri": "https://localhost:8080/"
        },
        "outputId": "4aadd931-f303-4ec6-b655-bef2f82b7c5b"
      },
      "source": [
        "class Nematode:\n",
        "  def __init__(self, lenght:int, gender:str, age: int):\n",
        "    self.lenght = lenght\n",
        "    self.gender = gender\n",
        "    self.age = age\n",
        "  def __str__(self):\n",
        "    return ('Celegan is : \\n+ lenght {}mm \\n+ gender is {} \\n+ age = {} days '.format(self.lenght, self.gender, self.age))\n",
        "  def __repr__(self):\n",
        "    return ('{} {} {}'.format(self.lenght, self.gender, self.age))\n",
        "Celegan = Nematode(1, 'male', 9)\n",
        "print(Celegan.__str__())\n",
        "print(Celegan.__repr__())"
      ],
      "execution_count": 14,
      "outputs": [
        {
          "output_type": "stream",
          "name": "stdout",
          "text": [
            "Celegan is : \n",
            "+ lenght 1mm \n",
            "+ gender is male \n",
            "+ age = 9 days \n",
            "1 male 9\n"
          ]
        }
      ]
    },
    {
      "cell_type": "markdown",
      "metadata": {
        "id": "t8IOz9LhT-i9"
      },
      "source": [
        "Câu 5"
      ]
    },
    {
      "cell_type": "code",
      "metadata": {
        "id": "DCrWieQoT_Nk"
      },
      "source": [
        ""
      ],
      "execution_count": 14,
      "outputs": []
    }
  ]
}