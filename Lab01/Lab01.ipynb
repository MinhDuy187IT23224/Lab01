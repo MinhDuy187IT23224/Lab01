{
  "nbformat": 4,
  "nbformat_minor": 0,
  "metadata": {
    "colab": {
      "name": "Lab01.ipynb",
      "provenance": [],
      "collapsed_sections": [],
      "toc_visible": true,
      "authorship_tag": "ABX9TyMNfhGlVx+HyqZtHA55NA7M",
      "include_colab_link": true
    },
    "kernelspec": {
      "name": "python3",
      "display_name": "Python 3"
    },
    "language_info": {
      "name": "python"
    }
  },
  "cells": [
    {
      "cell_type": "markdown",
      "metadata": {
        "id": "view-in-github",
        "colab_type": "text"
      },
      "source": [
        "<a href=\"https://colab.research.google.com/github/MinhDuy187IT23224/PythonNangCao/blob/main/Lab01/Lab01.ipynb\" target=\"_parent\"><img src=\"https://colab.research.google.com/assets/colab-badge.svg\" alt=\"Open In Colab\"/></a>"
      ]
    },
    {
      "cell_type": "code",
      "metadata": {
        "colab": {
          "base_uri": "https://localhost:8080/"
        },
        "id": "Jet1zPTdE_7c",
        "outputId": "f6f21d62-607e-4e77-e189-1e828a837f4c"
      },
      "source": [
        "min(2,3,4)"
      ],
      "execution_count": null,
      "outputs": [
        {
          "output_type": "execute_result",
          "data": {
            "text/plain": [
              "2"
            ]
          },
          "metadata": {},
          "execution_count": 1
        }
      ]
    },
    {
      "cell_type": "code",
      "metadata": {
        "colab": {
          "base_uri": "https://localhost:8080/"
        },
        "id": "ocJysth8LbVc",
        "outputId": "c6bf06e8-c7a3-4307-ec5e-77ec2dd16702"
      },
      "source": [
        "max(2, -3, 4, 7, -5)"
      ],
      "execution_count": 2,
      "outputs": [
        {
          "output_type": "execute_result",
          "data": {
            "text/plain": [
              "7"
            ]
          },
          "metadata": {},
          "execution_count": 2
        }
      ]
    },
    {
      "cell_type": "code",
      "metadata": {
        "colab": {
          "base_uri": "https://localhost:8080/"
        },
        "id": "hB8BDzV7KNzI",
        "outputId": "501e5e5a-edd8-487e-b3b4-df127b172593"
      },
      "source": [
        "max(2, -3, min(4, 7), -5)"
      ],
      "execution_count": null,
      "outputs": [
        {
          "output_type": "execute_result",
          "data": {
            "text/plain": [
              "2"
            ]
          },
          "metadata": {},
          "execution_count": 1
        }
      ]
    },
    {
      "cell_type": "code",
      "metadata": {
        "colab": {
          "base_uri": "https://localhost:8080/"
        },
        "id": "tdu26badNM4L",
        "outputId": "f9209714-3612-4e55-8e40-09bcaef4301f"
      },
      "source": [
        "min(max(3, 4), abs(-5))"
      ],
      "execution_count": 3,
      "outputs": [
        {
          "output_type": "execute_result",
          "data": {
            "text/plain": [
              "4"
            ]
          },
          "metadata": {},
          "execution_count": 3
        }
      ]
    },
    {
      "cell_type": "code",
      "metadata": {
        "colab": {
          "base_uri": "https://localhost:8080/"
        },
        "id": "JvUyuydgStHN",
        "outputId": "ba5163bf-ec3d-4600-b8c3-015b17a462f4"
      },
      "source": [
        "abs(min(4, 6, max(2, 8)))"
      ],
      "execution_count": 4,
      "outputs": [
        {
          "output_type": "execute_result",
          "data": {
            "text/plain": [
              "4"
            ]
          },
          "metadata": {},
          "execution_count": 4
        }
      ]
    },
    {
      "cell_type": "code",
      "metadata": {
        "colab": {
          "base_uri": "https://localhost:8080/"
        },
        "id": "ob-THYjRSvE7",
        "outputId": "9010c517-c557-4e86-8d76-7133b73fe31c"
      },
      "source": [
        "round(max(5.572, 3.258), abs(-2))"
      ],
      "execution_count": 5,
      "outputs": [
        {
          "output_type": "execute_result",
          "data": {
            "text/plain": [
              "5.57"
            ]
          },
          "metadata": {},
          "execution_count": 5
        }
      ]
    },
    {
      "cell_type": "code",
      "metadata": {
        "colab": {
          "base_uri": "https://localhost:8080/"
        },
        "id": "Z4MxzjKoSwiN",
        "outputId": "66c86799-a869-4520-d1f6-d95debd07d7f"
      },
      "source": [
        "def triple(num):\n",
        " return num * 3\n",
        "\n",
        "triple(3)"
      ],
      "execution_count": 24,
      "outputs": [
        {
          "output_type": "execute_result",
          "data": {
            "text/plain": [
              "9"
            ]
          },
          "metadata": {},
          "execution_count": 24
        }
      ]
    },
    {
      "cell_type": "code",
      "metadata": {
        "colab": {
          "base_uri": "https://localhost:8080/"
        },
        "id": "QxewsEbLS0Ft",
        "outputId": "31fe7060-bac3-4a20-d902-b07faae3b264"
      },
      "source": [
        "def absolute_difference(number1, number2):\n",
        "  return abs(number1 - number2)\n",
        "\n",
        "absolute_difference(3, 1)"
      ],
      "execution_count": 30,
      "outputs": [
        {
          "output_type": "execute_result",
          "data": {
            "text/plain": [
              "2"
            ]
          },
          "metadata": {},
          "execution_count": 30
        }
      ]
    },
    {
      "cell_type": "code",
      "metadata": {
        "colab": {
          "base_uri": "https://localhost:8080/"
        },
        "id": "GHmisXx3S34H",
        "outputId": "b7c6219a-88f2-445c-b473-28b9cc241a86"
      },
      "source": [
        "def km_to_miles(km):\n",
        " return km / 1.6\n",
        "\n",
        "km_to_miles(10)"
      ],
      "execution_count": 31,
      "outputs": [
        {
          "output_type": "execute_result",
          "data": {
            "text/plain": [
              "6.25"
            ]
          },
          "metadata": {},
          "execution_count": 31
        }
      ]
    },
    {
      "cell_type": "code",
      "metadata": {
        "colab": {
          "base_uri": "https://localhost:8080/"
        },
        "id": "WGIOkVZBS8G0",
        "outputId": "a1a77897-464f-452a-cd13-a72e7fb25bb7"
      },
      "source": [
        "def average_grade(grade1, grade2, grade3):\n",
        " return (grade1 + grade2 + grade3) / 3\n",
        "\n",
        "average_grade(8, 12, 7)"
      ],
      "execution_count": 32,
      "outputs": [
        {
          "output_type": "execute_result",
          "data": {
            "text/plain": [
              "9.0"
            ]
          },
          "metadata": {},
          "execution_count": 32
        }
      ]
    },
    {
      "cell_type": "code",
      "metadata": {
        "colab": {
          "base_uri": "https://localhost:8080/"
        },
        "id": "XPsO8DZBTAbt",
        "outputId": "7e9d175a-183b-49fa-a0c9-2788e86e8bbd"
      },
      "source": [
        "def top_three_avg(grade1, grade2, grade3, grade4):\n",
        " total = grade1 + grade2 + grade3 + grade4\n",
        " top_three = total - min(grade1, grade2, grade3, grade4)\n",
        " return top_three / 3\n",
        " return max(average_grade(grade1, grade2, grade3),\n",
        " average_grade(grade1, grade2, grade4),\n",
        " average_grade(grade1, grade3, grade4),\n",
        " average_grade(grade2, grade3, grade4))\n",
        " return (grade1 + grade2 + grade3) / 3\n",
        "\n",
        "\n",
        "top_three_avg(7, 12, 9, 5)"
      ],
      "execution_count": 33,
      "outputs": [
        {
          "output_type": "execute_result",
          "data": {
            "text/plain": [
              "9.333333333333334"
            ]
          },
          "metadata": {},
          "execution_count": 33
        }
      ]
    },
    {
      "cell_type": "code",
      "metadata": {
        "id": "82DhZ8utbdDM"
      },
      "source": [
        "def weeks_elapsed(day1, day2):\n",
        "\"\"\" (int, int) -> int\n",
        "day1 and day2 are days in the same year. Return the number of full weeks\n",
        "that have elapsed between the two days."
      ],
      "execution_count": null,
      "outputs": []
    }
  ]
}