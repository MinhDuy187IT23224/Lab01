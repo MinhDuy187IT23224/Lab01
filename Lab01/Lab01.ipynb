{
  "nbformat": 4,
  "nbformat_minor": 0,
  "metadata": {
    "colab": {
      "name": "Lab01.ipynb",
      "provenance": [],
      "collapsed_sections": [],
      "toc_visible": true,
      "authorship_tag": "ABX9TyNp3FyxSqXgK9Fd7ZPmTVuF",
      "include_colab_link": true
    },
    "kernelspec": {
      "name": "python3",
      "display_name": "Python 3"
    },
    "language_info": {
      "name": "python"
    }
  },
  "cells": [
    {
      "cell_type": "markdown",
      "metadata": {
        "id": "view-in-github",
        "colab_type": "text"
      },
      "source": [
        "<a href=\"https://colab.research.google.com/github/MinhDuy187IT23224/PythonNangCao/blob/main/Lab01/Lab01.ipynb\" target=\"_parent\"><img src=\"https://colab.research.google.com/assets/colab-badge.svg\" alt=\"Open In Colab\"/></a>"
      ]
    },
    {
      "cell_type": "code",
      "metadata": {
        "colab": {
          "base_uri": "https://localhost:8080/"
        },
        "id": "Jet1zPTdE_7c",
        "outputId": "f6f21d62-607e-4e77-e189-1e828a837f4c"
      },
      "source": [
        "min(2,3,4)"
      ],
      "execution_count": null,
      "outputs": [
        {
          "output_type": "execute_result",
          "data": {
            "text/plain": [
              "2"
            ]
          },
          "metadata": {},
          "execution_count": 1
        }
      ]
    },
    {
      "cell_type": "code",
      "metadata": {
        "colab": {
          "base_uri": "https://localhost:8080/"
        },
        "id": "ocJysth8LbVc",
        "outputId": "c6bf06e8-c7a3-4307-ec5e-77ec2dd16702"
      },
      "source": [
        "max(2, -3, 4, 7, -5)"
      ],
      "execution_count": 2,
      "outputs": [
        {
          "output_type": "execute_result",
          "data": {
            "text/plain": [
              "7"
            ]
          },
          "metadata": {},
          "execution_count": 2
        }
      ]
    },
    {
      "cell_type": "code",
      "metadata": {
        "colab": {
          "base_uri": "https://localhost:8080/"
        },
        "id": "hB8BDzV7KNzI",
        "outputId": "501e5e5a-edd8-487e-b3b4-df127b172593"
      },
      "source": [
        "max(2, -3, min(4, 7), -5)"
      ],
      "execution_count": null,
      "outputs": [
        {
          "output_type": "execute_result",
          "data": {
            "text/plain": [
              "2"
            ]
          },
          "metadata": {},
          "execution_count": 1
        }
      ]
    },
    {
      "cell_type": "code",
      "metadata": {
        "id": "tdu26badNM4L",
        "outputId": "f9209714-3612-4e55-8e40-09bcaef4301f",
        "colab": {
          "base_uri": "https://localhost:8080/"
        }
      },
      "source": [
        "min(max(3, 4), abs(-5))"
      ],
      "execution_count": 3,
      "outputs": [
        {
          "output_type": "execute_result",
          "data": {
            "text/plain": [
              "4"
            ]
          },
          "metadata": {},
          "execution_count": 3
        }
      ]
    },
    {
      "cell_type": "code",
      "metadata": {
        "id": "JvUyuydgStHN",
        "outputId": "ba5163bf-ec3d-4600-b8c3-015b17a462f4",
        "colab": {
          "base_uri": "https://localhost:8080/"
        }
      },
      "source": [
        "abs(min(4, 6, max(2, 8)))"
      ],
      "execution_count": 4,
      "outputs": [
        {
          "output_type": "execute_result",
          "data": {
            "text/plain": [
              "4"
            ]
          },
          "metadata": {},
          "execution_count": 4
        }
      ]
    },
    {
      "cell_type": "code",
      "metadata": {
        "id": "ob-THYjRSvE7",
        "outputId": "9010c517-c557-4e86-8d76-7133b73fe31c",
        "colab": {
          "base_uri": "https://localhost:8080/"
        }
      },
      "source": [
        "round(max(5.572, 3.258), abs(-2))"
      ],
      "execution_count": 5,
      "outputs": [
        {
          "output_type": "execute_result",
          "data": {
            "text/plain": [
              "5.57"
            ]
          },
          "metadata": {},
          "execution_count": 5
        }
      ]
    },
    {
      "cell_type": "code",
      "metadata": {
        "id": "Z4MxzjKoSwiN"
      },
      "source": [
        "def triple(num):\n",
        " \"\"\" (number) -> number\n",
        " Return num tripled.\n",
        " >>> triple(3)\n",
        " 9\n",
        " \"\"\"\n",
        " return num * 3"
      ],
      "execution_count": 6,
      "outputs": []
    },
    {
      "cell_type": "code",
      "metadata": {
        "id": "QxewsEbLS0Ft"
      },
      "source": [
        "def absolute_difference(number1, number2):\n",
        " \"\"\" (number, number) -> number\n",
        " Return the absolute value of the difference between number1\n",
        " and number2.\n",
        " >>> absolute_difference(3, 7)\n",
        " 4\n",
        " \"\"\"\n",
        " return abs(number1 - number2)"
      ],
      "execution_count": 7,
      "outputs": []
    },
    {
      "cell_type": "code",
      "metadata": {
        "id": "GHmisXx3S34H"
      },
      "source": [
        "def km_to_miles(km):\n",
        " \"\"\" (number) -> float\n",
        " Return the distance km in miles.\n",
        " >>> km_to_miles(5)\n",
        " 3.125\n",
        " \"\"\"\n",
        " return km / 1.6"
      ],
      "execution_count": 8,
      "outputs": []
    },
    {
      "cell_type": "code",
      "metadata": {
        "id": "WGIOkVZBS8G0"
      },
      "source": [
        "def average_grade(grade1, grade2, grade3):\n",
        " \"\"\" (number, number, number) -> number\n",
        " Return the average of the grade1, grade2, and grade3, where\n",
        " each grade ranges from 0 to 100, inclusive.\n",
        " >>> average_grade(80, 95, 90)\n",
        " 88.33333333333333\n",
        " \"\"\"\n",
        " return (grade1 + grade2 + grade3) / 3"
      ],
      "execution_count": 9,
      "outputs": []
    },
    {
      "cell_type": "code",
      "metadata": {
        "id": "XPsO8DZBTAbt"
      },
      "source": [
        ""
      ],
      "execution_count": null,
      "outputs": []
    }
  ]
}