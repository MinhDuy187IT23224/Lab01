{
  "nbformat": 4,
  "nbformat_minor": 0,
  "metadata": {
    "colab": {
      "name": "Untitled2.ipynb",
      "provenance": [],
      "include_colab_link": true
    },
    "kernelspec": {
      "name": "python3",
      "display_name": "Python 3"
    },
    "language_info": {
      "name": "python"
    }
  },
  "cells": [
    {
      "cell_type": "markdown",
      "metadata": {
        "id": "view-in-github",
        "colab_type": "text"
      },
      "source": [
        "<a href=\"https://colab.research.google.com/github/MinhDuy187IT23224/PythonNangCao/blob/main/Lab04/Lab04.ipynb\" target=\"_parent\"><img src=\"https://colab.research.google.com/assets/colab-badge.svg\" alt=\"Open In Colab\"/></a>"
      ]
    },
    {
      "cell_type": "markdown",
      "metadata": {
        "id": "0TjpxNgzDi77"
      },
      "source": [
        "Câu 1"
      ]
    },
    {
      "cell_type": "code",
      "metadata": {
        "colab": {
          "base_uri": "https://localhost:8080/"
        },
        "id": "DB_bu4QMDVLm",
        "outputId": "dc3f6372-adcd-43a5-8149-93c23b62ad04"
      },
      "source": [
        "def find_dups(L):\n",
        "  elem_set = set()\n",
        "  dups_set = set()\n",
        "  for entry in L:\n",
        "    len_initial = len(elem_set)\n",
        "    elem_set.add(entry)\n",
        "    len_after = len(elem_set)\n",
        "    if len_initial == len_after:\n",
        "      dups_set.add(entry)\n",
        "  return(dups_set)\n",
        "find_dups([1, 1, 2, 3, 4, 2])"
      ],
      "execution_count": 1,
      "outputs": [
        {
          "output_type": "execute_result",
          "data": {
            "text/plain": [
              "{1, 2}"
            ]
          },
          "metadata": {},
          "execution_count": 1
        }
      ]
    },
    {
      "cell_type": "code",
      "metadata": {
        "colab": {
          "base_uri": "https://localhost:8080/"
        },
        "id": "VDmc3VPQOEWV",
        "outputId": "8a084236-1e95-4391-a661-f5e58deba7a8"
      },
      "source": [
        "find_dups([1, 2, 3, 4])"
      ],
      "execution_count": 2,
      "outputs": [
        {
          "output_type": "execute_result",
          "data": {
            "text/plain": [
              "set()"
            ]
          },
          "metadata": {},
          "execution_count": 2
        }
      ]
    },
    {
      "cell_type": "markdown",
      "metadata": {
        "id": "0_ndaUJfUAK3"
      },
      "source": [
        "Câu 2\n"
      ]
    },
    {
      "cell_type": "code",
      "metadata": {
        "colab": {
          "base_uri": "https://localhost:8080/"
        },
        "id": "EwyDpleIT-tH",
        "outputId": "01fe5c31-599c-45ea-d665-587b909d8b1a"
      },
      "source": [
        "def mating_pairs(males, females):\n",
        "  pairs = set()\n",
        "  num_gerbils = len(males)\n",
        "  for i in range(num_gerbils):\n",
        "    male = males.pop()\n",
        "    female = females.pop()\n",
        "    pairs.add((male, female),)\n",
        "  return pairs\n",
        "mating_pairs({'Anne', 'Beatrice', 'Cari'}, {'Ali', 'Bob', 'Chen'})"
      ],
      "execution_count": 3,
      "outputs": [
        {
          "output_type": "execute_result",
          "data": {
            "text/plain": [
              "{('Anne', 'Chen'), ('Beatrice', 'Bob'), ('Cari', 'Ali')}"
            ]
          },
          "metadata": {},
          "execution_count": 3
        }
      ]
    },
    {
      "cell_type": "markdown",
      "metadata": {
        "id": "qHQv2Lg1aVX3"
      },
      "source": [
        "Câu 3"
      ]
    },
    {
      "cell_type": "code",
      "metadata": {
        "colab": {
          "base_uri": "https://localhost:8080/"
        },
        "id": "S5XEFksXYujU",
        "outputId": "2c5b9f64-2a96-47fc-fbe6-edf68ce51d22"
      },
      "source": [
        "def mating_pairs(animals, nums):\n",
        "  pairs = set()\n",
        "  num_gerbils = len(animals)\n",
        "  for i in range(num_gerbils):\n",
        "    animal = animals.pop()\n",
        "    num = nums.pop()\n",
        "    pairs.add((animal, num),)\n",
        "  return pairs\n",
        "mating_pairs({'Mouse','Tiger','Dragon'}, {1,3,5})"
      ],
      "execution_count": 4,
      "outputs": [
        {
          "output_type": "execute_result",
          "data": {
            "text/plain": [
              "{('Dragon', 1), ('Mouse', 5), ('Tiger', 3)}"
            ]
          },
          "metadata": {},
          "execution_count": 4
        }
      ]
    },
    {
      "cell_type": "markdown",
      "metadata": {
        "id": "DsZBLDebXHHl"
      },
      "source": [
        "Câu 5"
      ]
    },
    {
      "cell_type": "code",
      "metadata": {
        "id": "sKPN1xA5TrEC",
        "colab": {
          "base_uri": "https://localhost:8080/"
        },
        "outputId": "e0566827-70d4-432e-a0f1-1f9997546463"
      },
      "source": [
        "def count_values(dic):\n",
        "  fun = []\n",
        "  for key, value in dic.items():\n",
        "    fun.append(value)\n",
        "  for key, value in dic.items():\n",
        "    count = 0\n",
        "    for i in fun:\n",
        "      if i == value:\n",
        "        count = count + 1\n",
        "    if count == 1:\n",
        "      print(value)\n",
        "dic = {'red': 1, 'green': 1, 'blue': 2}\n",
        "count_values(dic)"
      ],
      "execution_count": 5,
      "outputs": [
        {
          "output_type": "stream",
          "name": "stdout",
          "text": [
            "2\n"
          ]
        }
      ]
    },
    {
      "cell_type": "markdown",
      "metadata": {
        "id": "ub3ciiGieXN8"
      },
      "source": [
        "Câu 6"
      ]
    },
    {
      "cell_type": "code",
      "metadata": {
        "id": "tl6IY0O8eWQo",
        "colab": {
          "base_uri": "https://localhost:8080/"
        },
        "outputId": "feb90e4a-ac6e-4872-cbf2-085c2c4643e0"
      },
      "source": [
        "def least(dic):\n",
        "  min = 999999999\n",
        "  for key, value in dic.items():\n",
        "    if value < min:\n",
        "      min = value\n",
        "      str1 = key\n",
        "    else:\n",
        "      continue\n",
        "  for key, value in dic.items():\n",
        "    if key == str1:\n",
        "      print(key)\n",
        "nguyentu = {'neutron': 0.55, 'proton': 0.21, 'meson': 0.03, 'muon': 0.07, 'neutrino': 0.80}\n",
        "least(nguyentu)"
      ],
      "execution_count": 6,
      "outputs": [
        {
          "output_type": "stream",
          "name": "stdout",
          "text": [
            "meson\n"
          ]
        }
      ]
    },
    {
      "cell_type": "markdown",
      "metadata": {
        "id": "VTQafXd8d6uK"
      },
      "source": [
        "Câu 7"
      ]
    },
    {
      "cell_type": "code",
      "metadata": {
        "id": "pSk7ObiCGUfz",
        "colab": {
          "base_uri": "https://localhost:8080/"
        },
        "outputId": "fa0fc248-fe1c-48b7-b2d9-13f6f0c34e69"
      },
      "source": [
        "def count_duplicates(dictionary):\n",
        "    duplicates = 0\n",
        "    values = list(dictionary.values())\n",
        "    for item in values:      \n",
        "        if values.count(item) >= 2:\n",
        "            duplicates = duplicates + 1     \n",
        "            num_occurrences = values.count(item)\n",
        "            for i in range(num_occurrences):\n",
        "                values.remove(item)\n",
        "\n",
        "    return duplicates\n",
        "count_duplicates({'A': 1, 'B': 2, 'C': 2, 'D': 1, 'E': 3})"
      ],
      "execution_count": 7,
      "outputs": [
        {
          "output_type": "execute_result",
          "data": {
            "text/plain": [
              "2"
            ]
          },
          "metadata": {},
          "execution_count": 7
        }
      ]
    },
    {
      "cell_type": "markdown",
      "metadata": {
        "id": "uIfhuEJnmngc"
      },
      "source": [
        "Câu 8"
      ]
    },
    {
      "cell_type": "code",
      "metadata": {
        "id": "DuV6QhMVlXVA",
        "colab": {
          "base_uri": "https://localhost:8080/"
        },
        "outputId": "d9b59c53-c64a-4811-8ec7-de49afc27974"
      },
      "source": [
        "def is_balanced(dic):\n",
        "  balanced=0\n",
        "  for key, value in dic.items():\n",
        "    balanced += value\n",
        "  if balanced == 1:\n",
        "    return True\n",
        "  else:\n",
        "    return False\n",
        "color = {'R':0.3,'G':0.3,'B':0.2}\n",
        "is_balanced(color)\n",
        "\n"
      ],
      "execution_count": 8,
      "outputs": [
        {
          "output_type": "execute_result",
          "data": {
            "text/plain": [
              "False"
            ]
          },
          "metadata": {},
          "execution_count": 8
        }
      ]
    },
    {
      "cell_type": "markdown",
      "metadata": {
        "id": "mVybQ-a6rbNT"
      },
      "source": [
        "Câu 9"
      ]
    },
    {
      "cell_type": "code",
      "metadata": {
        "id": "ELtBOVwGrb6o",
        "colab": {
          "base_uri": "https://localhost:8080/"
        },
        "outputId": "12113761-9000-4bec-9202-04c28aa68aac"
      },
      "source": [
        "def dict_intersect(dic1,dic2):\n",
        "  dic3 = {}\n",
        "  for key, value in dic1.items():\n",
        "    for key1, value1 in dic2.items():\n",
        "      if ((key == key1) and (value ==value1)):\n",
        "        dic3[key] = value\n",
        "  return dic3\n",
        "dic1 = {'red': 1, 'green': 1, 'blue': 2}\n",
        "dic2 = {'red': 1, 'green': 5, 'blue': 2, 'black': 4}\n",
        "dict_intersect(dic1,dic2)"
      ],
      "execution_count": 9,
      "outputs": [
        {
          "output_type": "execute_result",
          "data": {
            "text/plain": [
              "{'blue': 2, 'red': 1}"
            ]
          },
          "metadata": {},
          "execution_count": 9
        }
      ]
    },
    {
      "cell_type": "markdown",
      "metadata": {
        "id": "5UQklIxWxLwM"
      },
      "source": [
        "Câu 12\n"
      ]
    },
    {
      "cell_type": "code",
      "metadata": {
        "id": "AqncW12sxMt7",
        "colab": {
          "base_uri": "https://localhost:8080/"
        },
        "outputId": "fdcf5c9d-aabd-4166-b763-fde63add6b5e"
      },
      "source": [
        "def sparse_add(vector_a, vector_b):\n",
        "  sum = vector_a.copy()\n",
        "  for key in vector_b:\n",
        "    if key in sum:\n",
        "      sum[key] = sum[key] + vector_b[key]\n",
        "    else:\n",
        "      sum[key] = vector_b[key]\n",
        "\n",
        "  return sum\n",
        "sparse_add({1: 3, 2: 3, 3: 4}, {2: 4, 3: 5, 4: 6})"
      ],
      "execution_count": 10,
      "outputs": [
        {
          "output_type": "execute_result",
          "data": {
            "text/plain": [
              "{1: 3, 2: 7, 3: 9, 4: 6}"
            ]
          },
          "metadata": {},
          "execution_count": 10
        }
      ]
    },
    {
      "cell_type": "code",
      "metadata": {
        "id": "in8tKLCPOE0d",
        "colab": {
          "base_uri": "https://localhost:8080/"
        },
        "outputId": "765d6bed-faa6-458e-8a60-008820db2d52"
      },
      "source": [
        "def sparse_dot(vector_a, vector_b):\n",
        "    multiplication = 0\n",
        "    for key1 in vector_a:\n",
        "        if key1 in vector_b:\n",
        "            multiplication = multiplication + vector_a[key1] * vector_b[key1]\n",
        "    return multiplication\n",
        "sparse_dot({1: 3, 2: 3, 3: 4}, {2: 4, 3: 5, 4: 6})"
      ],
      "execution_count": 11,
      "outputs": [
        {
          "output_type": "execute_result",
          "data": {
            "text/plain": [
              "32"
            ]
          },
          "metadata": {},
          "execution_count": 11
        }
      ]
    }
  ]
}